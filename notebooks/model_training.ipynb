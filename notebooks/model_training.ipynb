{
 "cells": [
  {
   "cell_type": "code",
   "execution_count": null,
   "id": "30131b80",
   "metadata": {
    "vscode": {
     "languageId": "plaintext"
    }
   },
   "outputs": [],
   "source": [
    "import pandas as pd\n",
    "from utils.preprocessing import load_data, clean_data\n",
    "from utils.functions import train_model\n",
    "\n",
    "# Load & clean\n",
    "df = load_data(\"../data/sample.csv\")\n",
    "df = clean_data(df)\n",
    "\n",
    "# Example: Assume last column is target\n",
    "X = df.iloc[:, :-1]\n",
    "y = df.iloc[:, -1]\n",
    "\n",
    "# Train\n",
    "model, acc = train_model(X, y)\n",
    "print(\"Model Accuracy:\", acc)\n",
    "\n"
   ]
  }
 ],
 "metadata": {
  "language_info": {
   "name": "python"
  }
 },
 "nbformat": 4,
 "nbformat_minor": 5
}
